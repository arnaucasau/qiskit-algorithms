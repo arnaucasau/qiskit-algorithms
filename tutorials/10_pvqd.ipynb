{
 "cells": [
  {
   "cell_type": "markdown",
   "metadata": {},
   "source": [
    "# Projected Variational Quantum Dynamics\n",
    "\n",
    "The projected Variational Quantum Dynamics (p-VQD) algorithm is a quantum algorithm for real time evolution. It's a variational algorithm that projects the state at time $t + \\Delta_t$, as calculated with Trotterization, onto a parameterized quantum circuit.\n",
    "\n",
    "For a quantum state $|\\phi(\\theta)\\rangle = U(\\theta)|0\\rangle$ constructed by a parameterized quantum circuit $U(\\theta)$ and a Hamiltonian $H$, the update rule can be written as\n",
    "\n",
    "$$\n",
    "\\theta_{n+1} = \\theta_n + \\arg\\min_{\\delta\\theta} 1 - |\\langle\\phi(\\theta_n + \\delta\\theta)|e^{-i\\Delta_t H}|\\phi(\\theta_n)\\rangle|^2,\n",
    "$$\n",
    "\n",
    "where $e^{-i\\Delta_t H}$ is calculated with a Trotter expansion (using e.g. the [PauliEvolutionGate](https://qiskit.org/documentation/stubs/qiskit.circuit.library.PauliEvolutionGate.html) in Qiskit!).\n",
    "\n",
    "The following tutorial explores the p-VQD algorithm, which is available as the [PVQD](https://qiskit.org/ecosystem/algorithms/stubs/qiskit_algorithms.PVQD.html) class. For details on the algorithm, see the original paper: [Barison et al. Quantum 5, 512 (2021)](https://quantum-journal.org/papers/q-2021-07-28-512/#)."
   ]
  },
  {
   "cell_type": "markdown",
   "metadata": {},
   "source": [
    "The example we're looking at is the time evolution of the $|00\\rangle$ state under the Hamiltonian\n",
    "\n",
    "$$\n",
    "    H = 0.1 Z_1 Z_2 + X_1 + X_2,\n",
    "$$\n",
    "\n",
    "which is an Ising Hamiltonian on two neighboring spins, up to a time $T=1$, where we want to keep track of the total magnetization $M = Z_1 + Z_2$ as an observable."
   ]
  },
  {
   "cell_type": "code",
   "execution_count": 1,
   "metadata": {
    "execution": {
     "iopub.execute_input": "2023-12-19T18:33:25.666059Z",
     "iopub.status.busy": "2023-12-19T18:33:25.665837Z",
     "iopub.status.idle": "2023-12-19T18:33:25.994618Z",
     "shell.execute_reply": "2023-12-19T18:33:25.994001Z"
    }
   },
   "outputs": [],
   "source": [
    "from qiskit.quantum_info import SparsePauliOp\n",
    "\n",
    "final_time = 1\n",
    "hamiltonian = SparsePauliOp.from_sparse_list(\n",
    "    [\n",
    "        (\"ZZ\", [0, 1], 0.1),\n",
    "        (\"X\", [0], 1),\n",
    "        (\"X\", [1], 1),\n",
    "    ],\n",
    "    num_qubits=2,\n",
    ")\n",
    "observable = SparsePauliOp([\"ZI\", \"IZ\"])"
   ]
  },
  {
   "cell_type": "markdown",
   "metadata": {},
   "source": [
    "After defining our Hamiltonian and observable, we need to choose the parameterized ansatz we project the update steps onto. We have different choices here, but for real time evolution an ansatz that contains building blocks of the evolved Hamiltonian usually performs very well."
   ]
  },
  {
   "cell_type": "code",
   "execution_count": 2,
   "metadata": {
    "execution": {
     "iopub.execute_input": "2023-12-19T18:33:25.997944Z",
     "iopub.status.busy": "2023-12-19T18:33:25.997416Z",
     "iopub.status.idle": "2023-12-19T18:33:26.766409Z",
     "shell.execute_reply": "2023-12-19T18:33:26.765587Z"
    }
   },
   "outputs": [
    {
     "data": {
      "image/png": "[encoded data removed]",
      "text/plain": [
       "<Figure size 454.517x200.667 with 1 Axes>"
      ]
     },
     "execution_count": 2,
     "metadata": {},
     "output_type": "execute_result"
    }
   ],
   "source": [
    "from qiskit.circuit import QuantumCircuit, ParameterVector\n",
    "\n",
    "theta = ParameterVector(\"th\", 5)\n",
    "ansatz = QuantumCircuit(2)\n",
    "ansatz.rx(theta[0], 0)\n",
    "ansatz.rx(theta[1], 1)\n",
    "ansatz.rzz(theta[2], 0, 1)\n",
    "ansatz.rx(theta[3], 0)\n",
    "ansatz.rx(theta[4], 1)\n",
    "\n",
    "# you can try different circuits, like:\n",
    "# from qiskit.circuit.library import EfficientSU2\n",
    "# ansatz = EfficientSU2(2, reps=1)\n",
    "\n",
    "ansatz.draw(\"mpl\", style=\"iqx\")"
   ]
  },
  {
   "cell_type": "markdown",
   "metadata": {},
   "source": [
    "With this ansatz, the $|00\\rangle$ state is prepared if all parameters are 0. Hence we'll set the initial parameters to $\\theta_0 = 0$:"
   ]
  },
  {
   "cell_type": "code",
   "execution_count": 3,
   "metadata": {
    "execution": {
     "iopub.execute_input": "2023-12-19T18:33:26.769115Z",
     "iopub.status.busy": "2023-12-19T18:33:26.768829Z",
     "iopub.status.idle": "2023-12-19T18:33:26.772286Z",
     "shell.execute_reply": "2023-12-19T18:33:26.771733Z"
    }
   },
   "outputs": [],
   "source": [
    "import numpy as np\n",
    "\n",
    "initial_parameters = np.zeros(ansatz.num_parameters)"
   ]
  },
  {
   "cell_type": "markdown",
   "metadata": {},
   "source": [
    "Before running the p-VQD algorithm, we need to select the backend and how we want to calculate the expectation values. Here, we'll perform exact statevector simulations (which are still very fast, as we investigate a 2 qubit system) through the reference primitive implementations found in `qiskit.primitives`."
   ]
  },
  {
   "cell_type": "code",
   "execution_count": 4,
   "metadata": {
    "execution": {
     "iopub.execute_input": "2023-12-19T18:33:26.774627Z",
     "iopub.status.busy": "2023-12-19T18:33:26.774420Z",
     "iopub.status.idle": "2023-12-19T18:33:27.056857Z",
     "shell.execute_reply": "2023-12-19T18:33:27.056254Z"
    }
   },
   "outputs": [],
   "source": [
    "from qiskit.primitives import Sampler, Estimator\n",
    "from qiskit_algorithms.state_fidelities import ComputeUncompute\n",
    "\n",
    "# the fidelity is used to evaluate the objective: the overlap of the variational form and the trotter step\n",
    "sampler = Sampler()\n",
    "fidelity = ComputeUncompute(sampler)\n",
    "\n",
    "# the estimator is used to evaluate the observables\n",
    "estimator = Estimator()"
   ]
  },
  {
   "cell_type": "markdown",
   "metadata": {},
   "source": [
    "Since p-VQD performs a classical optimization in each timestep to determine the best parameters for the projection, we also have to specify the classical optimizer. As a first example we're using BFGS, which typically works well in statevector simulations, but later we can switch to gradient descent."
   ]
  },
  {
   "cell_type": "code",
   "execution_count": 5,
   "metadata": {
    "execution": {
     "iopub.execute_input": "2023-12-19T18:33:27.059780Z",
     "iopub.status.busy": "2023-12-19T18:33:27.059577Z",
     "iopub.status.idle": "2023-12-19T18:33:27.062712Z",
     "shell.execute_reply": "2023-12-19T18:33:27.062095Z"
    }
   },
   "outputs": [],
   "source": [
    "from qiskit_algorithms.optimizers import L_BFGS_B\n",
    "\n",
    "bfgs = L_BFGS_B()"
   ]
  },
  {
   "cell_type": "markdown",
   "metadata": {},
   "source": [
    "Now we can define p-VQD and execute it!"
   ]
  },
  {
   "cell_type": "code",
   "execution_count": 6,
   "metadata": {
    "execution": {
     "iopub.execute_input": "2023-12-19T18:33:27.065198Z",
     "iopub.status.busy": "2023-12-19T18:33:27.064840Z",
     "iopub.status.idle": "2023-12-19T18:33:27.068190Z",
     "shell.execute_reply": "2023-12-19T18:33:27.067535Z"
    }
   },
   "outputs": [],
   "source": [
    "from qiskit_algorithms import PVQD\n",
    "\n",
    "pvqd = PVQD(\n",
    "    fidelity, ansatz, initial_parameters, estimator=estimator, num_timesteps=100, optimizer=bfgs\n",
    ")"
   ]
  },
  {
   "cell_type": "markdown",
   "metadata": {},
   "source": [
    "The p-VQD implementation follows Qiskit's time evolution interface, thus we pack all information of the evolution problem into an input class: the `hamiltonian` under which we evolve the state, the `final_time` of the evolution and the observables (`aux_operators`) we keep track of."
   ]
  },
  {
   "cell_type": "code",
   "execution_count": 7,
   "metadata": {
    "execution": {
     "iopub.execute_input": "2023-12-19T18:33:27.070742Z",
     "iopub.status.busy": "2023-12-19T18:33:27.070295Z",
     "iopub.status.idle": "2023-12-19T18:33:27.073575Z",
     "shell.execute_reply": "2023-12-19T18:33:27.072916Z"
    }
   },
   "outputs": [],
   "source": [
    "from qiskit_algorithms import TimeEvolutionProblem\n",
    "\n",
    "problem = TimeEvolutionProblem(\n",
    "    hamiltonian, time=final_time, aux_operators=[hamiltonian, observable]\n",
    ")"
   ]
  },
  {
   "cell_type": "markdown",
   "metadata": {},
   "source": [
    "And then run the algorithm!"
   ]
  },
  {
   "cell_type": "code",
   "execution_count": 8,
   "metadata": {
    "execution": {
     "iopub.execute_input": "2023-12-19T18:33:27.076181Z",
     "iopub.status.busy": "2023-12-19T18:33:27.075822Z",
     "iopub.status.idle": "2023-12-19T18:33:35.997164Z",
     "shell.execute_reply": "2023-12-19T18:33:35.996414Z"
    }
   },
   "outputs": [
    {
     "name": "stdout",
     "output_type": "stream",
     "text": [
      "{   'aux_ops_evaluated': array([ 0.09853631, -0.82588395]),\n",
      "    'estimated_error': 4.782399097957857e-06,\n",
      "    'evolved_state': <qiskit.circuit.quantumcircuit.QuantumCircuit object at 0x7f841e299460>,\n",
      "    'fidelities': [   1.0,\n",
      "                      0.9999999979673518,\n",
      "                      0.9999999885360136,\n",
      "                      0.9999999714172078,\n",
      "                      0.9999999466065624,\n",
      "                      0.9999999998573988,\n",
      "                      0.999999999533502,\n",
      "                      0.9999999977334382,\n",
      "                      0.9999999944817364,\n",
      "                      0.9999999898085656,\n",
      "                      0.9999999994319574,\n",
      "                      0.9999999992304272,\n",
      "                      0.999999998916081,\n",
      "                      0.9999999984852764,\n",
      "                      0.9999999979337082,\n",
      "                      0.9999999972562544,\n",
      "                      0.99999999644681,\n",
      "                      0.9999999954981172,\n",
      "                      0.9999999944015974,\n",
      "                      0.999999993147176,\n",
      "                      0.999999991723108,\n",
      "                      0.9999999901158114,\n",
      "                      0.9999999883096988,\n",
      "                      0.9999999862870146,\n",
      "                      0.9999999840276894,\n",
      "                      0.9999999815091948,\n",
      "                      0.9999999788954056,\n",
      "                      0.9999999758212996,\n",
      "                      0.9999999724040972,\n",
      "                      0.9999999686100072,\n",
      "                      0.9999999644022726,\n",
      "                      0.9999999597411264,\n",
      "                      0.9999999547455826,\n",
      "                      0.9999999490948805,\n",
      "                      0.999999942854388,\n",
      "                      0.9999999359722058,\n",
      "                      0.9999999311181972,\n",
      "                      0.9999999239343667,\n",
      "                      0.999999916116023,\n",
      "                      0.999999907611798,\n",
      "                      0.9999999005566436,\n",
      "                      0.9999998916792276,\n",
      "                      0.9999998821327684,\n",
      "                      0.9999998718671758,\n",
      "                      0.999999863270589,\n",
      "                      0.9999998526419446,\n",
      "                      0.999999841302979,\n",
      "                      0.9999998312985376,\n",
      "                      0.999999819572519,\n",
      "                      0.9999998071480096,\n",
      "                      0.9999997967324828,\n",
      "                      0.999999784275684,\n",
      "                      0.9999997711825098,\n",
      "                      0.9999997574138894,\n",
      "                      0.9999997467843054,\n",
      "                      0.9999997334023094,\n",
      "                      0.9999997194525564,\n",
      "                      0.9999999997408938,\n",
      "                      0.9999999990316448,\n",
      "                      0.9999999971971212,\n",
      "                      0.9999999943351626,\n",
      "                      0.9999999900255824,\n",
      "                      0.999999984882006,\n",
      "                      0.9999999782892758,\n",
      "                      0.9999999700223832,\n",
      "                      0.999999959871619,\n",
      "                      0.9999999476033634,\n",
      "                      0.999999932961821,\n",
      "                      0.9999999156704248,\n",
      "                      0.9999999962893344,\n",
      "                      0.9999999957921228,\n",
      "                      0.9999999947694316,\n",
      "                      0.999999993145191,\n",
      "                      0.9999999908763098,\n",
      "                      0.9999999878832544,\n",
      "                      0.9999999841577653,\n",
      "                      0.9999999797946446,\n",
      "                      0.9999999743190696,\n",
      "                      0.9999999680435702,\n",
      "                      0.9999999608412478,\n",
      "                      0.9999999975580578,\n",
      "                      0.9999999968152614,\n",
      "                      0.9999999958187596,\n",
      "                      0.9999999943079166,\n",
      "                      0.9999999925505147,\n",
      "                      0.9999999901490156,\n",
      "                      0.999999987456833,\n",
      "                      0.9999999839986122,\n",
      "                      0.9999999801813116,\n",
      "                      0.9999999754819334,\n",
      "                      0.9999999707552726,\n",
      "                      0.99999996470313,\n",
      "                      0.9999999996105948,\n",
      "                      0.9999999993438426,\n",
      "                      0.999999998815637,\n",
      "                      0.9999999979944096,\n",
      "                      0.999999996846771,\n",
      "                      0.9999999953375394,\n",
      "                      0.999999993618998,\n",
      "                      0.9999999913630085,\n",
      "                      0.9999999886416778],\n",
      "    'observables': [   array([0.1, 2. ]),\n",
      "                       array([0.10008714, 1.99960002]),\n",
      "                       array([0.10034857, 1.99840031]),\n",
      "                       array([0.10078428, 1.99640162]),\n",
      "                       array([0.10139426, 1.99360515]),\n",
      "                       array([0.10137706, 1.99001224]),\n",
      "                       array([0.10128352, 1.98562405]),\n",
      "                       array([0.10111431, 1.98044233]),\n",
      "                       array([0.1008702 , 1.97446915]),\n",
      "                       array([0.10055212, 1.96770691]),\n",
      "                       array([0.10052041, 1.96015094]),\n",
      "                       array([0.10047553, 1.95181071]),\n",
      "                       array([0.10041861, 1.94268975]),\n",
      "                       array([0.10035092, 1.93279192]),\n",
      "                       array([0.10027381, 1.92212141]),\n",
      "                       array([0.10018872, 1.91068274]),\n",
      "                       array([0.10009719, 1.89848073]),\n",
      "                       array([0.10000087, 1.88552054]),\n",
      "                       array([0.09990148, 1.87180764]),\n",
      "                       array([0.09980084, 1.85734782]),\n",
      "                       array([0.09970084, 1.84214718]),\n",
      "                       array([0.09960345, 1.82621213]),\n",
      "                       array([0.09951072, 1.80954938]),\n",
      "                       array([0.09942478, 1.79216597]),\n",
      "                       array([0.09934782, 1.7740692 ]),\n",
      "                       array([0.09928208, 1.75526671]),\n",
      "                       array([0.09923122, 1.73574938]),\n",
      "                       array([0.09919639, 1.71554128]),\n",
      "                       array([0.09918001, 1.69465091]),\n",
      "                       array([0.09918454, 1.67308709]),\n",
      "                       array([0.09921252, 1.6508589 ]),\n",
      "                       array([0.09926647, 1.62797569]),\n",
      "                       array([0.09934828, 1.60442819]),\n",
      "                       array([0.09946127, 1.5802442 ]),\n",
      "                       array([0.09960805, 1.55543391]),\n",
      "                       array([0.09979128, 1.53000778]),\n",
      "                       array([0.09988077, 1.50394387]),\n",
      "                       array([0.10000534, 1.47728344]),\n",
      "                       array([0.10016773, 1.45003765]),\n",
      "                       array([0.10037066, 1.42221789]),\n",
      "                       array([0.10048107, 1.39383452]),\n",
      "                       array([0.10063122, 1.36489969]),\n",
      "                       array([0.10082386, 1.33542538]),\n",
      "                       array([0.1010617 , 1.30542382]),\n",
      "                       array([0.10122587, 1.27486884]),\n",
      "                       array([0.10143548, 1.24380952]),\n",
      "                       array([0.1016932 , 1.21225869]),\n",
      "                       array([0.10188696, 1.1802154 ]),\n",
      "                       array([0.10212936, 1.14770555]),\n",
      "                       array([0.102423  , 1.11474249]),\n",
      "                       array([0.10263095, 1.08133244]),\n",
      "                       array([0.10288944, 1.04749515]),\n",
      "                       array([0.10320093, 1.01324443]),\n",
      "                       array([0.10356783, 0.97859426]),\n",
      "                       array([0.10383007, 0.94354737]),\n",
      "                       array([0.10414601, 0.90812799]),\n",
      "                       array([0.10451789, 0.87235048]),\n",
      "                       array([0.10456283, 0.8362259 ]),\n",
      "                       array([0.10456628, 0.79977514]),\n",
      "                       array([0.10455171, 0.76300753]),\n",
      "                       array([0.10451593, 0.72593771]),\n",
      "                       array([0.10441159, 0.6885652 ]),\n",
      "                       array([0.10428606, 0.65092185]),\n",
      "                       array([0.10413594, 0.61302362]),\n",
      "                       array([0.10395549, 0.57488489]),\n",
      "                       array([0.10373903, 0.53651997]),\n",
      "                       array([0.10348079, 0.49794336]),\n",
      "                       array([0.10317489, 0.45916978]),\n",
      "                       array([0.10281533, 0.42021409]),\n",
      "                       array([0.10283314, 0.38110714]),\n",
      "                       array([0.10282799, 0.34185746]),\n",
      "                       array([0.1027986 , 0.30246364]),\n",
      "                       array([0.10274101, 0.26297202]),\n",
      "                       array([0.10265109, 0.22334929]),\n",
      "                       array([0.10252504, 0.18367927]),\n",
      "                       array([0.10236315, 0.14389634]),\n",
      "                       array([0.10218826, 0.10407545]),\n",
      "                       array([0.10196605, 0.0642389 ]),\n",
      "                       array([0.10171342, 0.02437649]),\n",
      "                       array([ 0.10142155, -0.01549257]),\n",
      "                       array([ 0.10142356, -0.05536442]),\n",
      "                       array([ 0.1013873 , -0.09521026]),\n",
      "                       array([ 0.1013343 , -0.13499527]),\n",
      "                       array([ 0.10123994, -0.17472226]),\n",
      "                       array([ 0.10112901, -0.21439262]),\n",
      "                       array([ 0.1009734 , -0.25397294]),\n",
      "                       array([ 0.10079955, -0.29342511]),\n",
      "                       array([ 0.10057748, -0.33275551]),\n",
      "                       array([ 0.10032961, -0.37197274]),\n",
      "                       array([ 0.10002998, -0.41103638]),\n",
      "                       array([ 0.09971672, -0.44990762]),\n",
      "                       array([ 0.09934775, -0.48859396]),\n",
      "                       array([ 0.09936967, -0.52707627]),\n",
      "                       array([ 0.09936926, -0.56534107]),\n",
      "                       array([ 0.09934462, -0.603373  ]),\n",
      "                       array([ 0.09929379, -0.64115676]),\n",
      "                       array([ 0.09921485, -0.67867717]),\n",
      "                       array([ 0.0991058 , -0.71591916]),\n",
      "                       array([ 0.09894982, -0.75288737]),\n",
      "                       array([ 0.09876065, -0.78954721]),\n",
      "                       array([ 0.09853631, -0.82588395])],\n",
      "    'parameters': [   array([0., 0., 0., 0., 0.]),\n",
      "                      array([0.00675283, 0.00788506, 0.00868591, 0.01324725, 0.01211501]),\n",
      "                      array([0.01350567, 0.01577012, 0.01737181, 0.0264945 , 0.02423002]),\n",
      "                      array([0.0202585 , 0.02365519, 0.02605772, 0.03974175, 0.03634503]),\n",
      "                      array([0.02701134, 0.03154025, 0.03474363, 0.052989  , 0.04846003]),\n",
      "                      array([0.03151736, 0.03663367, 0.03485879, 0.06847708, 0.06335993]),\n",
      "                      array([0.03602338, 0.0417271 , 0.03497396, 0.08396515, 0.07825983]),\n",
      "                      array([0.0405294 , 0.04682052, 0.03508913, 0.09945323, 0.09315972]),\n",
      "                      array([0.04503542, 0.05191395, 0.03520429, 0.11494131, 0.10805962]),\n",
      "                      array([0.04954144, 0.05700737, 0.03531946, 0.13042938, 0.12295952]),\n",
      "                      array([0.05452344, 0.0625149 , 0.03825166, 0.14546397, 0.13746878]),\n",
      "                      array([0.05950543, 0.06802243, 0.04118385, 0.16049856, 0.15197805]),\n",
      "                      array([0.06448743, 0.07352996, 0.04411605, 0.17553315, 0.16648732]),\n",
      "                      array([0.06946943, 0.07903748, 0.04704824, 0.19056774, 0.18099658]),\n",
      "                      array([0.07445142, 0.08454501, 0.04998044, 0.20560234, 0.19550585]),\n",
      "                      array([0.07943342, 0.09005254, 0.05291263, 0.22063693, 0.21001512]),\n",
      "                      array([0.08441541, 0.09556007, 0.05584483, 0.23567152, 0.22452438]),\n",
      "                      array([0.08939741, 0.1010676 , 0.05877703, 0.25070611, 0.23903365]),\n",
      "                      array([0.0943794 , 0.10657512, 0.06170922, 0.2657407 , 0.25354292]),\n",
      "                      array([0.0993614 , 0.11208265, 0.06464142, 0.28077529, 0.26805218]),\n",
      "                      array([0.1043434 , 0.11759018, 0.06757361, 0.29580988, 0.28256145]),\n",
      "                      array([0.10932539, 0.12309771, 0.07050581, 0.31084447, 0.29707071]),\n",
      "                      array([0.11430739, 0.12860523, 0.073438  , 0.32587906, 0.31157998]),\n",
      "                      array([0.11928938, 0.13411276, 0.0763702 , 0.34091365, 0.32608925]),\n",
      "                      array([0.12427138, 0.13962029, 0.0793024 , 0.35594824, 0.34059851]),\n",
      "                      array([0.12925337, 0.14512782, 0.08223459, 0.37098283, 0.35510778]),\n",
      "                      array([0.13424625, 0.15064391, 0.08517116, 0.38602409, 0.36962534]),\n",
      "                      array([0.13923912, 0.15616   , 0.08810772, 0.40106536, 0.38414289]),\n",
      "                      array([0.14423199, 0.1616761 , 0.09104428, 0.41610662, 0.39866045]),\n",
      "                      array([0.14922486, 0.16719219, 0.09398085, 0.43114788, 0.413178  ]),\n",
      "                      array([0.15421773, 0.17270828, 0.09691741, 0.44618914, 0.42769556]),\n",
      "                      array([0.15921061, 0.17822438, 0.09985397, 0.46123041, 0.44221311]),\n",
      "                      array([0.16421344, 0.18374757, 0.1027881 , 0.47627761, 0.45673935]),\n",
      "                      array([0.16921627, 0.18927077, 0.10572223, 0.49132481, 0.47126558]),\n",
      "                      array([0.17421911, 0.19479396, 0.10865636, 0.50637201, 0.48579181]),\n",
      "                      array([0.17922194, 0.20031716, 0.11159049, 0.52141922, 0.50031804]),\n",
      "                      array([0.18429022, 0.20579068, 0.11417518, 0.53642015, 0.51491263]),\n",
      "                      array([0.1893585 , 0.2112642 , 0.11675988, 0.55142109, 0.52950722]),\n",
      "                      array([0.19442678, 0.21673772, 0.11934457, 0.56642202, 0.54410182]),\n",
      "                      array([0.19949506, 0.22221124, 0.12192927, 0.58142296, 0.55869641]),\n",
      "                      array([0.20462914, 0.22764425, 0.12418092, 0.59635244, 0.57332541]),\n",
      "                      array([0.20976322, 0.23307725, 0.12643256, 0.61128193, 0.58795442]),\n",
      "                      array([0.2148973 , 0.23851025, 0.12868421, 0.62621142, 0.60258343]),\n",
      "                      array([0.22003139, 0.24394326, 0.13093586, 0.6411409 , 0.61721244]),\n",
      "                      array([0.22526757, 0.24937977, 0.13289731, 0.65598683, 0.63185593]),\n",
      "                      array([0.23050375, 0.25481628, 0.13485876, 0.67083276, 0.64649943]),\n",
      "                      array([0.23573993, 0.26025278, 0.13682021, 0.68567869, 0.66114293]),\n",
      "                      array([0.24107198, 0.26570553, 0.13851683, 0.70043077, 0.67577162]),\n",
      "                      array([0.24640404, 0.27115828, 0.14021346, 0.71518285, 0.69040031]),\n",
      "                      array([0.25173609, 0.27661102, 0.14191008, 0.72993493, 0.705029  ]),\n",
      "                      array([0.25720771, 0.28211483, 0.14328754, 0.74454303, 0.7196015 ]),\n",
      "                      array([0.26267932, 0.28761863, 0.14466499, 0.75915113, 0.734174  ]),\n",
      "                      array([0.26815093, 0.29312243, 0.14604245, 0.77375922, 0.7487465 ]),\n",
      "                      array([0.27362255, 0.29862624, 0.1474199 , 0.78836732, 0.763319  ]),\n",
      "                      array([0.27923229, 0.30420612, 0.14845234, 0.80283274, 0.77781052]),\n",
      "                      array([0.28484203, 0.30978599, 0.14948477, 0.81729817, 0.79230204]),\n",
      "                      array([0.29045177, 0.31536587, 0.15051721, 0.8317636 , 0.80679357]),\n",
      "                      array([0.31846033, 0.34498837, 0.14169626, 0.82359645, 0.79701336]),\n",
      "                      array([0.34660156, 0.37473497, 0.13435559, 0.81532787, 0.78711788]),\n",
      "                      array([0.37483392, 0.40457102, 0.12822624, 0.8069866 , 0.77715355]),\n",
      "                      array([0.40312961, 0.43446518, 0.12307384, 0.79859693, 0.76714766]),\n",
      "                      array([0.43146995, 0.46439863, 0.1186647 , 0.79018074, 0.7571221 ]),\n",
      "                      array([0.4598416 , 0.49435721, 0.11493194, 0.78174286, 0.74708205]),\n",
      "                      array([0.48823396, 0.52432955, 0.11176838, 0.77329181, 0.73703658]),\n",
      "                      array([0.51663905, 0.55430714, 0.10908751, 0.76483463, 0.72699311]),\n",
      "                      array([0.5450505 , 0.58428323, 0.10682081, 0.75637711, 0.7169577 ]),\n",
      "                      array([0.57346286, 0.61425209, 0.10491345, 0.74792426, 0.7069356 ]),\n",
      "                      array([0.60187125, 0.64420857, 0.10332108, 0.73948067, 0.6969316 ]),\n",
      "                      array([0.630271  , 0.67414772, 0.10200761, 0.73105074, 0.68695038]),\n",
      "                      array([0.65152479, 0.69385688, 0.10177879, 0.72979654, 0.68723151]),\n",
      "                      array([0.67277106, 0.71357113, 0.10162474, 0.72854741, 0.68750547]),\n",
      "                      array([0.69401352, 0.73329358, 0.10154198, 0.7273083 , 0.68777801]),\n",
      "                      array([0.71524403, 0.75301489, 0.10152458, 0.72607199, 0.68804267]),\n",
      "                      array([0.73647452, 0.77274633, 0.10156764, 0.72485105, 0.68831331]),\n",
      "                      array([0.75768806, 0.79246927, 0.10166617, 0.72362851, 0.68857375]),\n",
      "                      array([0.7789044 , 0.81220361, 0.1018209 , 0.72242531, 0.68884584]),\n",
      "                      array([0.800098  , 0.83193186, 0.10205435, 0.72123899, 0.68911815]),\n",
      "                      array([0.82127313, 0.85165168, 0.10233261, 0.72006039, 0.6893887 ]),\n",
      "                      array([0.84242158, 0.87136364, 0.10267349, 0.71891211, 0.68967081]),\n",
      "                      array([0.86353184, 0.8910604 , 0.10306885, 0.71780379, 0.68996999]),\n",
      "                      array([0.87944936, 0.90803598, 0.10367818, 0.72190761, 0.69301144]),\n",
      "                      array([0.89536689, 0.92501155, 0.10428751, 0.72601143, 0.69605289]),\n",
      "                      array([0.9112822 , 0.9419769 , 0.1049204 , 0.73011036, 0.69909532]),\n",
      "                      array([0.92719752, 0.95894226, 0.1055533 , 0.73420929, 0.70213776]),\n",
      "                      array([0.94311752, 0.97590583, 0.10621389, 0.73831321, 0.70519296]),\n",
      "                      array([0.95903752, 0.99286941, 0.10687448, 0.74241714, 0.70824815]),\n",
      "                      array([0.9749513 , 1.00981767, 0.10756479, 0.74651909, 0.71130795]),\n",
      "                      array([0.99086508, 1.02676592, 0.10825509, 0.75062105, 0.71436775]),\n",
      "                      array([1.00678107, 1.04370941, 0.10897156, 0.75473391, 0.71744742]),\n",
      "                      array([1.02269707, 1.0606529 , 0.10968803, 0.75884677, 0.7205271 ]),\n",
      "                      array([1.03859165, 1.0775532 , 0.11044695, 0.76297317, 0.72363977]),\n",
      "                      array([1.05448624, 1.0944535 , 0.11120588, 0.76709958, 0.72675244]),\n",
      "                      array([1.06823256, 1.1074193 , 0.11203556, 0.77338444, 0.73380919]),\n",
      "                      array([1.08197887, 1.1203851 , 0.11286525, 0.77966931, 0.74086594]),\n",
      "                      array([1.09572519, 1.13335089, 0.11369494, 0.78595417, 0.74792268]),\n",
      "                      array([1.10947151, 1.14631669, 0.11452462, 0.79223904, 0.75497943]),\n",
      "                      array([1.12321783, 1.15928249, 0.11535431, 0.7985239 , 0.76203618]),\n",
      "                      array([1.13696415, 1.17224828, 0.116184  , 0.80480877, 0.76909292]),\n",
      "                      array([1.15070658, 1.18521579, 0.11699197, 0.81110449, 0.77615868]),\n",
      "                      array([1.16444902, 1.1981833 , 0.11779994, 0.81740022, 0.78322443]),\n",
      "                      array([1.17819146, 1.2111508 , 0.11860791, 0.82369594, 0.79029019])],\n",
      "    'times': [   0.0,\n",
      "                 0.01,\n",
      "                 0.02,\n",
      "                 0.03,\n",
      "                 0.04,\n",
      "                 0.05,\n",
      "                 0.06,\n",
      "                 0.07,\n",
      "                 0.08,\n",
      "                 0.09,\n",
      "                 0.1,\n",
      "                 0.11,\n",
      "                 0.12,\n",
      "                 0.13,\n",
      "                 0.14,\n",
      "                 0.15,\n",
      "                 0.16,\n",
      "                 0.17,\n",
      "                 0.18,\n",
      "                 0.19,\n",
      "                 0.2,\n",
      "                 0.21,\n",
      "                 0.22,\n",
      "                 0.23,\n",
      "                 0.24,\n",
      "                 0.25,\n",
      "                 0.26,\n",
      "                 0.27,\n",
      "                 0.28,\n",
      "                 0.29,\n",
      "                 0.3,\n",
      "                 0.31,\n",
      "                 0.32,\n",
      "                 0.33,\n",
      "                 0.34,\n",
      "                 0.35000000000000003,\n",
      "                 0.36,\n",
      "                 0.37,\n",
      "                 0.38,\n",
      "                 0.39,\n",
      "                 0.4,\n",
      "                 0.41000000000000003,\n",
      "                 0.42,\n",
      "                 0.43,\n",
      "                 0.44,\n",
      "                 0.45,\n",
      "                 0.46,\n",
      "                 0.47000000000000003,\n",
      "                 0.48,\n",
      "                 0.49,\n",
      "                 0.5,\n",
      "                 0.51,\n",
      "                 0.52,\n",
      "                 0.53,\n",
      "                 0.54,\n",
      "                 0.55,\n",
      "                 0.56,\n",
      "                 0.5700000000000001,\n",
      "                 0.58,\n",
      "                 0.59,\n",
      "                 0.6,\n",
      "                 0.61,\n",
      "                 0.62,\n",
      "                 0.63,\n",
      "                 0.64,\n",
      "                 0.65,\n",
      "                 0.66,\n",
      "                 0.67,\n",
      "                 0.68,\n",
      "                 0.6900000000000001,\n",
      "                 0.7000000000000001,\n",
      "                 0.71,\n",
      "                 0.72,\n",
      "                 0.73,\n",
      "                 0.74,\n",
      "                 0.75,\n",
      "                 0.76,\n",
      "                 0.77,\n",
      "                 0.78,\n",
      "                 0.79,\n",
      "                 0.8,\n",
      "                 0.81,\n",
      "                 0.8200000000000001,\n",
      "                 0.8300000000000001,\n",
      "                 0.84,\n",
      "                 0.85,\n",
      "                 0.86,\n",
      "                 0.87,\n",
      "                 0.88,\n",
      "                 0.89,\n",
      "                 0.9,\n",
      "                 0.91,\n",
      "                 0.92,\n",
      "                 0.93,\n",
      "                 0.9400000000000001,\n",
      "                 0.9500000000000001,\n",
      "                 0.96,\n",
      "                 0.97,\n",
      "                 0.98,\n",
      "                 0.99,\n",
      "                 1.0]}\n"
     ]
    }
   ],
   "source": [
    "result = pvqd.evolve(problem)\n",
    "print(result)"
   ]
  },
  {
   "cell_type": "markdown",
   "metadata": {},
   "source": [
    "Now we can have a look at the results, which are stored in a `PVQDResult` object. This class has the fields\n",
    "\n",
    "* `evolved_state`: The quantum circuit with the parameters at the final evolution time.\n",
    "* `times`: The timesteps of the time integration. At these times we have the parameter values and evaluated the observables.\n",
    "* `parameters`: The parameter values at each timestep.\n",
    "* `observables`: The observable values at each timestep.\n",
    "* `fidelities`: The fidelity of projecting the Trotter timestep onto the variational form at each timestep.\n",
    "* `estimated_error`: The estimated error as product of all fidelities."
   ]
  },
  {
   "cell_type": "markdown",
   "metadata": {},
   "source": [
    "The energy should be constant in a real time evolution. However, we are projecting the time-evolved state onto a variational form, which might violate this rule. Ideally the energy is still more or less constant. In this evolution here we observe shifts of ~5% of the energy."
   ]
  },
  {
   "cell_type": "code",
   "execution_count": 9,
   "metadata": {
    "execution": {
     "iopub.execute_input": "2023-12-19T18:33:36.000064Z",
     "iopub.status.busy": "2023-12-19T18:33:35.999648Z",
     "iopub.status.idle": "2023-12-19T18:33:36.192810Z",
     "shell.execute_reply": "2023-12-19T18:33:36.192098Z"
    }
   },
   "outputs": [
    {
     "data": {
      "text/plain": [
       "Text(0.5, 1.0, 'Energy over time')"
      ]
     },
     "execution_count": 9,
     "metadata": {},
     "output_type": "execute_result"
    },
    {
     "data": {
      "image/png": "[encoded data removed]",
      "text/plain": [
       "<Figure size 640x480 with 1 Axes>"
      ]
     },
     "metadata": {},
     "output_type": "display_data"
    }
   ],
   "source": [
    "import matplotlib.pyplot as plt\n",
    "\n",
    "energies = np.real(result.observables)[:, 0]\n",
    "\n",
    "plt.plot(result.times, energies, color=\"royalblue\")\n",
    "plt.xlabel(\"time $t$\")\n",
    "plt.ylabel(\"energy $E$\")\n",
    "plt.title(\"Energy over time\")"
   ]
  },
  {
   "cell_type": "markdown",
   "metadata": {},
   "source": [
    "Since we also kept track of the total magnetization of the system, we can plot that quantity too. However let's first compute exact reference values to verify our algorithm results."
   ]
  },
  {
   "cell_type": "code",
   "execution_count": 10,
   "metadata": {
    "execution": {
     "iopub.execute_input": "2023-12-19T18:33:36.195529Z",
     "iopub.status.busy": "2023-12-19T18:33:36.195145Z",
     "iopub.status.idle": "2023-12-19T18:33:36.200309Z",
     "shell.execute_reply": "2023-12-19T18:33:36.199635Z"
    }
   },
   "outputs": [],
   "source": [
    "import scipy as sc\n",
    "\n",
    "\n",
    "def exact(final_time, timestep, hamiltonian, initial_state):\n",
    "    \"\"\"Get the exact values for energy and the observable.\"\"\"\n",
    "    O = observable.to_matrix()\n",
    "    H = hamiltonian.to_matrix()\n",
    "\n",
    "    energ, magn = [], []  # list of energies and magnetizations evaluated at timesteps timestep\n",
    "    times = []  # list of timepoints at which energy/obs are evaluated\n",
    "    time = 0\n",
    "    while time <= final_time:\n",
    "        # get exact state at time t\n",
    "        exact_state = initial_state.evolve(sc.linalg.expm(-1j * time * H))\n",
    "        # store observables and time\n",
    "        times.append(time)\n",
    "        energ.append(exact_state.expectation_value(H).real)\n",
    "        magn.append(exact_state.expectation_value(observable).real)\n",
    "\n",
    "        # next timestep\n",
    "        time += timestep\n",
    "\n",
    "    return times, energ, magn"
   ]
  },
  {
   "cell_type": "code",
   "execution_count": 11,
   "metadata": {
    "execution": {
     "iopub.execute_input": "2023-12-19T18:33:36.202857Z",
     "iopub.status.busy": "2023-12-19T18:33:36.202398Z",
     "iopub.status.idle": "2023-12-19T18:33:36.234933Z",
     "shell.execute_reply": "2023-12-19T18:33:36.234209Z"
    }
   },
   "outputs": [],
   "source": [
    "from qiskit.quantum_info import Statevector\n",
    "\n",
    "initial_state = Statevector(ansatz.assign_parameters(initial_parameters))\n",
    "exact_times, exact_energies, exact_magnetizations = exact(\n",
    "    final_time, 0.01, hamiltonian, initial_state\n",
    ")"
   ]
  },
  {
   "cell_type": "code",
   "execution_count": 12,
   "metadata": {
    "execution": {
     "iopub.execute_input": "2023-12-19T18:33:36.238244Z",
     "iopub.status.busy": "2023-12-19T18:33:36.237757Z",
     "iopub.status.idle": "2023-12-19T18:33:36.457534Z",
     "shell.execute_reply": "2023-12-19T18:33:36.456986Z"
    }
   },
   "outputs": [
    {
     "data": {
      "text/plain": [
       "<matplotlib.legend.Legend at 0x7f841dc03d30>"
      ]
     },
     "execution_count": 12,
     "metadata": {},
     "output_type": "execute_result"
    },
    {
     "data": {
      "image/png": "[encoded data removed]",
      "text/plain": [
       "<Figure size 640x480 with 1 Axes>"
      ]
     },
     "metadata": {},
     "output_type": "display_data"
    }
   ],
   "source": [
    "magnetizations = np.real(result.observables)[:, 1]\n",
    "\n",
    "plt.plot(result.times, magnetizations.real, color=\"crimson\", label=\"PVQD\")\n",
    "plt.plot(exact_times, exact_magnetizations, \":\", color=\"k\", label=\"Exact\")\n",
    "plt.xlabel(\"time $t$\")\n",
    "plt.ylabel(r\"magnetization $\\langle Z_1 Z_2 \\rangle$\")\n",
    "plt.title(\"Magnetization over time\")\n",
    "plt.legend(loc=\"best\")"
   ]
  },
  {
   "cell_type": "markdown",
   "metadata": {},
   "source": [
    "Looks pretty good!"
   ]
  },
  {
   "cell_type": "markdown",
   "metadata": {},
   "source": [
    "### Gradient-based optimizations\n",
    "\n",
    "The `PVQD` class also implements parameter-shift gradients for the loss function and we can use a gradient descent optimization routine\n",
    "\n",
    "$$\n",
    "    \\theta_{k+1} = \\theta_{k} - \\eta_k \\nabla\\ell(\\theta_k).\n",
    "$$\n",
    "\n",
    "Here we're using a learning rate of\n",
    "\n",
    "$$\n",
    "    \\eta_k = 0.1 k^{-0.602}\n",
    "$$\n",
    "and 80 optimization steps in each timestep."
   ]
  },
  {
   "cell_type": "code",
   "execution_count": 13,
   "metadata": {
    "execution": {
     "iopub.execute_input": "2023-12-19T18:33:36.460183Z",
     "iopub.status.busy": "2023-12-19T18:33:36.459811Z",
     "iopub.status.idle": "2023-12-19T18:33:36.465119Z",
     "shell.execute_reply": "2023-12-19T18:33:36.464500Z"
    },
    "scrolled": true
   },
   "outputs": [],
   "source": [
    "from qiskit_algorithms.optimizers import GradientDescent\n",
    "\n",
    "maxiter = 80\n",
    "learning_rate = 0.1 * np.arange(1, maxiter + 1) ** (-0.602)\n",
    "gd = GradientDescent(maxiter, lambda: iter(learning_rate))"
   ]
  },
  {
   "cell_type": "code",
   "execution_count": 14,
   "metadata": {
    "execution": {
     "iopub.execute_input": "2023-12-19T18:33:36.467610Z",
     "iopub.status.busy": "2023-12-19T18:33:36.467233Z",
     "iopub.status.idle": "2023-12-19T18:33:36.470252Z",
     "shell.execute_reply": "2023-12-19T18:33:36.469586Z"
    }
   },
   "outputs": [],
   "source": [
    "pvqd.optimizer = gd"
   ]
  },
  {
   "cell_type": "markdown",
   "metadata": {},
   "source": [
    "The following cell would take a few minutes to run for 100 timesteps, so we reduce them here."
   ]
  },
  {
   "cell_type": "code",
   "execution_count": 15,
   "metadata": {
    "execution": {
     "iopub.execute_input": "2023-12-19T18:33:36.472756Z",
     "iopub.status.busy": "2023-12-19T18:33:36.472322Z",
     "iopub.status.idle": "2023-12-19T18:33:36.475517Z",
     "shell.execute_reply": "2023-12-19T18:33:36.474868Z"
    }
   },
   "outputs": [],
   "source": [
    "n = 10\n",
    "pvqd.num_timesteps = n\n",
    "problem.time = 0.1"
   ]
  },
  {
   "cell_type": "code",
   "execution_count": 16,
   "metadata": {
    "execution": {
     "iopub.execute_input": "2023-12-19T18:33:36.478131Z",
     "iopub.status.busy": "2023-12-19T18:33:36.477651Z",
     "iopub.status.idle": "2023-12-19T18:33:56.961632Z",
     "shell.execute_reply": "2023-12-19T18:33:56.960866Z"
    }
   },
   "outputs": [],
   "source": [
    "result_gd = pvqd.evolve(problem)"
   ]
  },
  {
   "cell_type": "code",
   "execution_count": 17,
   "metadata": {
    "execution": {
     "iopub.execute_input": "2023-12-19T18:33:56.964830Z",
     "iopub.status.busy": "2023-12-19T18:33:56.964462Z",
     "iopub.status.idle": "2023-12-19T18:33:57.186565Z",
     "shell.execute_reply": "2023-12-19T18:33:57.185761Z"
    }
   },
   "outputs": [
    {
     "data": {
      "text/plain": [
       "Text(0.5, 1.0, 'Energy over time')"
      ]
     },
     "execution_count": 17,
     "metadata": {},
     "output_type": "execute_result"
    },
    {
     "data": {
      "image/png": "[encoded data removed]",
      "text/plain": [
       "<Figure size 640x480 with 1 Axes>"
      ]
     },
     "metadata": {},
     "output_type": "display_data"
    }
   ],
   "source": [
    "energies_gd = np.real(result_gd.observables)[:, 0]\n",
    "\n",
    "plt.plot(result.times[: n + 1], energies[: n + 1], \"-\", color=\"royalblue\", label=\"BFGS\")\n",
    "plt.plot(result_gd.times, energies_gd, \"--\", color=\"royalblue\", label=\"Gradient descent\")\n",
    "plt.plot(exact_times[: n + 1], exact_energies[: n + 1], \":\", color=\"k\", label=\"Exact\")\n",
    "plt.legend(loc=\"best\")\n",
    "plt.xlabel(\"time $t$\")\n",
    "plt.ylabel(\"energy $E$\")\n",
    "plt.title(\"Energy over time\")"
   ]
  },
  {
   "cell_type": "markdown",
   "metadata": {},
   "source": [
    "We can observe here, that the energy does vary quite a bit! But as we mentioned before, p-VQD does not preserve the energy."
   ]
  },
  {
   "cell_type": "code",
   "execution_count": 18,
   "metadata": {
    "execution": {
     "iopub.execute_input": "2023-12-19T18:33:57.189490Z",
     "iopub.status.busy": "2023-12-19T18:33:57.189022Z",
     "iopub.status.idle": "2023-12-19T18:33:57.430845Z",
     "shell.execute_reply": "2023-12-19T18:33:57.430106Z"
    },
    "tags": [
     "nbsphinx-thumbnail"
    ]
   },
   "outputs": [
    {
     "data": {
      "text/plain": [
       "Text(0.5, 1.0, 'Magnetization over time')"
      ]
     },
     "execution_count": 18,
     "metadata": {},
     "output_type": "execute_result"
    },
    {
     "data": {
      "image/png": "[encoded data removed]",
      "text/plain": [
       "<Figure size 640x480 with 1 Axes>"
      ]
     },
     "metadata": {},
     "output_type": "display_data"
    }
   ],
   "source": [
    "magnetizations_gd = np.real(result_gd.observables)[:, 1]\n",
    "\n",
    "plt.plot(result.times[: n + 1], magnetizations[: n + 1], \"-\", color=\"crimson\", label=\"BFGS\")\n",
    "plt.plot(result_gd.times, magnetizations_gd, \"--\", color=\"crimson\", label=\"Gradient descent\")\n",
    "plt.plot(exact_times[: n + 1], exact_magnetizations[: n + 1], \":\", color=\"k\", label=\"Exact\")\n",
    "plt.legend(loc=\"best\")\n",
    "plt.xlabel(\"time $t$\")\n",
    "plt.ylabel(r\"magnetization $\\langle Z_1 + Z_2 \\rangle$\")\n",
    "plt.title(\"Magnetization over time\")"
   ]
  },
  {
   "cell_type": "markdown",
   "metadata": {},
   "source": [
    "The magnetization, however, is computed very precisely."
   ]
  },
  {
   "cell_type": "code",
   "execution_count": 19,
   "metadata": {
    "execution": {
     "iopub.execute_input": "2023-12-19T18:33:57.433650Z",
     "iopub.status.busy": "2023-12-19T18:33:57.433250Z",
     "iopub.status.idle": "2023-12-19T18:33:57.517821Z",
     "shell.execute_reply": "2023-12-19T18:33:57.517147Z"
    }
   },
   "outputs": [
    {
     "data": {
      "text/html": [
       "<h3>Version Information</h3><table><tr><th>Software</th><th>Version</th></tr><tr><td><code>qiskit</code></td><td>0.45.1</td></tr><tr><td><code>qiskit_algorithms</code></td><td>0.3.0</td></tr><tr><td><code>qiskit_aer</code></td><td>0.13.1</td></tr><tr><th colspan='2'>System information</th></tr><tr><td>Python version</td><td>3.8.18</td></tr><tr><td>Python compiler</td><td>GCC 11.4.0</td></tr><tr><td>Python build</td><td>default, Aug 28 2023 08:27:22</td></tr><tr><td>OS</td><td>Linux</td></tr><tr><td>CPUs</td><td>2</td></tr><tr><td>Memory (Gb)</td><td>15.606903076171875</td></tr><tr><td colspan='2'>Tue Dec 19 18:33:57 2023 UTC</td></tr></table>"
      ],
      "text/plain": [
       "<IPython.core.display.HTML object>"
      ]
     },
     "metadata": {},
     "output_type": "display_data"
    },
    {
     "data": {
      "text/html": [
       "<div style='width: 100%; background-color:#d5d9e0;padding-left: 10px; padding-bottom: 10px; padding-right: 10px; padding-top: 5px'><h3>This code is a part of Qiskit</h3><p>&copy; Copyright IBM 2017, 2023.</p><p>This code is licensed under the Apache License, Version 2.0. You may<br>obtain a copy of this license in the LICENSE.txt file in the root directory<br> of this source tree or at http://www.apache.org/licenses/LICENSE-2.0.<p>Any modifications or derivative works of this code must retain this<br>copyright notice, and modified files need to carry a notice indicating<br>that they have been altered from the originals.</p></div>"
      ],
      "text/plain": [
       "<IPython.core.display.HTML object>"
      ]
     },
     "metadata": {},
     "output_type": "display_data"
    }
   ],
   "source": [
    "import qiskit.tools.jupyter\n",
    "\n",
    "%qiskit_version_table\n",
    "%qiskit_copyright"
   ]
  }
 ],
 "metadata": {
  "celltoolbar": "Edit Metadata",
  "kernelspec": {
   "display_name": "Python 3",
   "language": "python",
   "name": "python3"
  },
  "language_info": {
   "codemirror_mode": {
    "name": "ipython",
    "version": 3
   },
   "file_extension": ".py",
   "mimetype": "text/x-python",
   "name": "python",
   "nbconvert_exporter": "python",
   "pygments_lexer": "ipython3",
   "version": "3.8.18"
  },
  "widgets": {
   "application/vnd.jupyter.widget-state+json": {
    "state": {
     "0b69cb1138e349fca386222a85f05b0d": {
      "model_module": "@jupyter-widgets/base",
      "model_module_version": "2.0.0",
      "model_name": "LayoutModel",
      "state": {
       "_model_module": "@jupyter-widgets/base",
       "_model_module_version": "2.0.0",
       "_model_name": "LayoutModel",
       "_view_count": null,
       "_view_module": "@jupyter-widgets/base",
       "_view_module_version": "2.0.0",
       "_view_name": "LayoutView",
       "align_content": null,
       "align_items": null,
       "align_self": null,
       "border_bottom": null,
       "border_left": null,
       "border_right": null,
       "border_top": null,
       "bottom": null,
       "display": null,
       "flex": null,
       "flex_flow": null,
       "grid_area": null,
       "grid_auto_columns": null,
       "grid_auto_flow": null,
       "grid_auto_rows": null,
       "grid_column": null,
       "grid_gap": null,
       "grid_row": null,
       "grid_template_areas": null,
       "grid_template_columns": null,
       "grid_template_rows": null,
       "height": null,
       "justify_content": null,
       "justify_items": null,
       "left": null,
       "margin": "0px 0px 10px 0px",
       "max_height": null,
       "max_width": null,
       "min_height": null,
       "min_width": null,
       "object_fit": null,
       "object_position": null,
       "order": null,
       "overflow": null,
       "padding": null,
       "right": null,
       "top": null,
       "visibility": null,
       "width": null
      }
     },
     "94a0963976354b2fb2d9827146b7d066": {
      "model_module": "@jupyter-widgets/controls",
      "model_module_version": "2.0.0",
      "model_name": "HTMLStyleModel",
      "state": {
       "_model_module": "@jupyter-widgets/controls",
       "_model_module_version": "2.0.0",
       "_model_name": "HTMLStyleModel",
       "_view_count": null,
       "_view_module": "@jupyter-widgets/base",
       "_view_module_version": "2.0.0",
       "_view_name": "StyleView",
       "background": null,
       "description_width": "",
       "font_size": null,
       "text_color": null
      }
     },
     "e88ccd2094f04d1386dbd9e41d04c403": {
      "model_module": "@jupyter-widgets/controls",
      "model_module_version": "2.0.0",
      "model_name": "HTMLModel",
      "state": {
       "_dom_classes": [],
       "_model_module": "@jupyter-widgets/controls",
       "_model_module_version": "2.0.0",
       "_model_name": "HTMLModel",
       "_view_count": null,
       "_view_module": "@jupyter-widgets/controls",
       "_view_module_version": "2.0.0",
       "_view_name": "HTMLView",
       "description": "",
       "description_allow_html": false,
       "layout": "IPY_MODEL_0b69cb1138e349fca386222a85f05b0d",
       "placeholder": "​",
       "style": "IPY_MODEL_94a0963976354b2fb2d9827146b7d066",
       "tabbable": null,
       "tooltip": null,
       "value": "<p style='font-family: IBM Plex Sans, Arial, Helvetica, sans-serif; font-size: 20px; font-weight: medium;'>Circuit Properties</p>"
      }
     }
    },
    "version_major": 2,
    "version_minor": 0
   }
  }
 },
 "nbformat": 4,
 "nbformat_minor": 4
}
